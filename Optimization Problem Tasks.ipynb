{
 "cells": [
  {
   "cell_type": "markdown",
   "id": "cd0e0230-5ccc-42b7-a3a7-763801e5ef26",
   "metadata": {},
   "source": [
    "# Optimization Problem Tasks"
   ]
  },
  {
   "cell_type": "code",
   "execution_count": null,
   "id": "4cddcfa3-9f11-4af4-a8ce-4cf237dbb734",
   "metadata": {},
   "outputs": [],
   "source": [
    "import pulp"
   ]
  },
  {
   "cell_type": "code",
   "execution_count": null,
   "id": "513a609f-7ecf-40ea-be92-766fac2cbd13",
   "metadata": {},
   "outputs": [],
   "source": [
    "# Create a linear programming (LP) problem\n",
    "problem = pulp.LpProblem(\"Resource_Allocation\", pulp.LpMaximize)"
   ]
  },
  {
   "cell_type": "code",
   "execution_count": null,
   "id": "4ad3da82-7e0a-4e8b-8a3e-f6d50a4300a5",
   "metadata": {},
   "outputs": [],
   "source": [
    "# Define decision variables\n",
    "x1 = pulp.LpVariable(\"Product1_Quantity\", lowBound=0, cat='Integer')  # Quantity of Product 1\n",
    "x2 = pulp.LpVariable(\"Product2_Quantity\", lowBound=0, cat='Integer')  # Quantity of Product 2"
   ]
  },
  {
   "cell_type": "code",
   "execution_count": null,
   "id": "1bf0a85a-d7f3-4914-afc5-cee76c7dae96",
   "metadata": {},
   "outputs": [],
   "source": [
    "# Set the objective function (maximize profit)\n",
    "profit = 500 * x1 + 800 * x2\n",
    "problem += profit, \"Objective\""
   ]
  },
  {
   "cell_type": "code",
   "execution_count": null,
   "id": "0699e25b-949a-4230-bb37-c0df2313d2de",
   "metadata": {},
   "outputs": [],
   "source": [
    "# Add constraints\n",
    "# Constraint 1: Total resource hours available\n",
    "resource_hours = 200\n",
    "problem += 2 * x1 + 3 * x2 <= resource_hours, \"Resource_Hours\""
   ]
  },
  {
   "cell_type": "code",
   "execution_count": null,
   "id": "0a4dc0a0-b3c8-4f08-b90b-ad1c8f7e27fe",
   "metadata": {},
   "outputs": [],
   "source": [
    "# Constraint 2: Total materials available\n",
    "materials = 150\n",
    "problem += 4 * x1 + 2 * x2 <= materials, \"Materials\""
   ]
  },
  {
   "cell_type": "code",
   "execution_count": null,
   "id": "80abb7c5-6f84-419e-96d9-cbc4eb3a355d",
   "metadata": {},
   "outputs": [],
   "source": [
    "# Solve the LP problem\n",
    "problem.solve()"
   ]
  },
  {
   "cell_type": "code",
   "execution_count": null,
   "id": "b26aa96b-5369-4a57-b3b5-13b2157bda8e",
   "metadata": {},
   "outputs": [],
   "source": [
    "# Print the results\n",
    "print(f\"Status: {pulp.LpStatus[problem.status]}\")\n",
    "print(f\"Optimal Solution:\")\n",
    "print(f\"Quantity of Product 1: {x1.varValue}\")\n",
    "print(f\"Quantity of Product 2: {x2.varValue}\")\n",
    "print(f\"Maximized Profit: ${pulp.value(problem.objective)}\")"
   ]
  },
  {
   "cell_type": "markdown",
   "id": "f3cb6f19-8c12-4c4d-b8ae-8b182e28180e",
   "metadata": {},
   "source": [
    "# In this code:\r\n",
    "\r\n",
    "We create an LP problem using PuLP and define two decision variables, x1 and x2, representing the quantities of two products.\r\n",
    "\r\n",
    "We set the objective function to maximize profit, where the profit is calculated based on the product quantities and their associated profit margins.\r\n",
    "\r\n",
    "We add constraints to ensure that resource hours and materials do not exceed available quantities.\r\n",
    "\r\n",
    "We solve the LP problem to find the optimal solution that maximizes profit while satisfying the constraints.\r\n",
    "\r\n",
    "Finally, we print the status, the optimal solution (quantities of products), and the maximized profit."
   ]
  },
  {
   "cell_type": "code",
   "execution_count": null,
   "id": "0e25b1ed-002d-491c-8ca8-909f2b0fba91",
   "metadata": {},
   "outputs": [],
   "source": []
  }
 ],
 "metadata": {
  "kernelspec": {
   "display_name": "Python 3 (ipykernel)",
   "language": "python",
   "name": "python3"
  },
  "language_info": {
   "codemirror_mode": {
    "name": "ipython",
    "version": 3
   },
   "file_extension": ".py",
   "mimetype": "text/x-python",
   "name": "python",
   "nbconvert_exporter": "python",
   "pygments_lexer": "ipython3",
   "version": "3.11.5"
  }
 },
 "nbformat": 4,
 "nbformat_minor": 5
}
