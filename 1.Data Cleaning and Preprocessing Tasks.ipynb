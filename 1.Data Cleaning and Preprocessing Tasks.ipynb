{
 "cells": [
  {
   "cell_type": "markdown",
   "id": "6727deb2-1bab-49e4-900b-58aedf22784c",
   "metadata": {},
   "source": [
    "# 1.Handling Missing Values:"
   ]
  },
  {
   "cell_type": "code",
   "execution_count": 1,
   "id": "e987dfe7-6464-4926-b3e3-31a266ec5a83",
   "metadata": {},
   "outputs": [],
   "source": [
    "import pandas as pd"
   ]
  },
  {
   "cell_type": "code",
   "execution_count": null,
   "id": "8bd9092d-2032-4530-9157-9779505c648e",
   "metadata": {},
   "outputs": [],
   "source": [
    "# Load the dataset\n",
    "data=pd.read_csv('customer_data.csv')"
   ]
  },
  {
   "cell_type": "code",
   "execution_count": null,
   "id": "bb1c9e6e-6075-40fa-b6f4-57165dfb7667",
   "metadata": {},
   "outputs": [],
   "source": [
    "# Handle missing values in the 'Age' and 'Income' columns\n",
    "data['Age'].fillna(data['Age'].mean(),inplace=True)\n",
    "data['Income'].fillna(data['Income'].mean(),inplace=True)"
   ]
  },
  {
   "cell_type": "markdown",
   "id": "74350c97-13a4-42a1-841d-a26debdf1055",
   "metadata": {},
   "source": [
    "# 2.Removing Outliers:"
   ]
  },
  {
   "cell_type": "code",
   "execution_count": null,
   "id": "1054d9b4-620c-48d8-8723-62697210efaa",
   "metadata": {},
   "outputs": [],
   "source": [
    "# Calculate the IQR for the 'Spending' column\n",
    "Q1=data['Spending'].quantile(0.25)\n",
    "Q3=data['Spending'].quantile(o.75)\n",
    "IQR=Q3-Q1"
   ]
  },
  {
   "cell_type": "code",
   "execution_count": null,
   "id": "ee466bc0-71d1-41fd-b8a7-6fa4cc6e762f",
   "metadata": {},
   "outputs": [],
   "source": [
    "# Define the upper and lower bounds for outliers\n",
    "lower_bound = Q1 - 1.5 * IQR\n",
    "upper_bound = Q3 + 1.5 * IQR"
   ]
  },
  {
   "cell_type": "code",
   "execution_count": null,
   "id": "9cbf48c6-a30a-476a-9f75-f044d1c1470e",
   "metadata": {},
   "outputs": [],
   "source": [
    "# Remove outliers from the 'Spending' column\n",
    "data=data[(data['Spending']>=lower_bound) & (data['Spending']<=upper_bound)]"
   ]
  },
  {
   "cell_type": "markdown",
   "id": "e9e2b77e-7bac-4824-bf96-44dd508c3ce9",
   "metadata": {},
   "source": [
    "# 3.Data Transformation:"
   ]
  },
  {
   "cell_type": "code",
   "execution_count": null,
   "id": "c47f107b-675d-46e4-949a-8684e7089ba4",
   "metadata": {},
   "outputs": [],
   "source": [
    "# Apply a 10% discount to the 'Price' column and create 'Discounted_Price'\n",
    "data['Discounted_Price']=data['Price']*0.9"
   ]
  },
  {
   "cell_type": "markdown",
   "id": "c4464af4-9214-4c14-9f34-c9d2d25a2813",
   "metadata": {},
   "source": [
    "# 4.Handling Categorical Data"
   ]
  },
  {
   "cell_type": "code",
   "execution_count": null,
   "id": "be62ac39-a087-459c-b4ba-921b20c249c3",
   "metadata": {},
   "outputs": [],
   "source": [
    "# Convert 'Gender' into numerical form using one-hot encoding\n",
    "data=pd.get_dummies(data,columns=['Gender'],prefix=['Gender'])"
   ]
  },
  {
   "cell_type": "markdown",
   "id": "17af2216-9a10-42ce-9c68-4563fbe321b6",
   "metadata": {},
   "source": [
    "# 5.Date Parsing:"
   ]
  },
  {
   "cell_type": "code",
   "execution_count": null,
   "id": "7ae485ce-656d-41ee-9b20-102f1dd84108",
   "metadata": {},
   "outputs": [],
   "source": [
    "# Parse the 'Purchase_Date' column into a datetime format\n",
    "data['Purchase_Date']=pd.to_datetime(data['Purchase_Date'])"
   ]
  },
  {
   "cell_type": "markdown",
   "id": "287c4e47-2276-40a2-95d8-ccdee8c0f3eb",
   "metadata": {},
   "source": [
    "# 6.Standardization/Normalization:"
   ]
  },
  {
   "cell_type": "code",
   "execution_count": null,
   "id": "d038ba4c-f61d-4ee8-8ad9-2f9ae079cb48",
   "metadata": {},
   "outputs": [],
   "source": [
    "from sklearn.preprocessing import MinMaxScaler"
   ]
  },
  {
   "cell_type": "code",
   "execution_count": null,
   "id": "6211f35d-acf0-42c0-b1ac-cf2f8fdcbbda",
   "metadata": {},
   "outputs": [],
   "source": [
    "# Initialize the Min-Max Scaler\n",
    "scaler = MinMaxScaler()"
   ]
  },
  {
   "cell_type": "code",
   "execution_count": null,
   "id": "d90e64f8-6cda-4fc1-9b4b-f3af282dc2ac",
   "metadata": {},
   "outputs": [],
   "source": [
    "# Apply Min-Max normalization to 'Income' column\n",
    "data['Income']=scaler.fit_transform([['Income']])"
   ]
  }
 ],
 "metadata": {
  "kernelspec": {
   "display_name": "Python 3 (ipykernel)",
   "language": "python",
   "name": "python3"
  },
  "language_info": {
   "codemirror_mode": {
    "name": "ipython",
    "version": 3
   },
   "file_extension": ".py",
   "mimetype": "text/x-python",
   "name": "python",
   "nbconvert_exporter": "python",
   "pygments_lexer": "ipython3",
   "version": "3.11.5"
  }
 },
 "nbformat": 4,
 "nbformat_minor": 5
}
