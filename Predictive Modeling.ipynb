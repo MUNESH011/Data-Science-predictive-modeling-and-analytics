{
 "cells": [
  {
   "cell_type": "markdown",
   "id": "a92ecf0e-55fb-46c2-9e1c-8fb791829b91",
   "metadata": {},
   "source": [
    "# Predictive Modeling:\r\n"
   ]
  },
  {
   "cell_type": "code",
   "execution_count": null,
   "id": "0456a5d0-2f0d-45a3-b3df-5f363f0eb062",
   "metadata": {},
   "outputs": [],
   "source": [
    "import pandas as pd\n",
    "from sklearn.model_selection import train_test_split\n",
    "from sklearn.linear_model import LinearRegression\n",
    "from sklear.metrics import mean_squared_error,r2_score\n",
    "import matplotlib.pyplot as plt\n"
   ]
  },
  {
   "cell_type": "code",
   "execution_count": null,
   "id": "d083f7fc-c52a-4f75-8233-d3caceaa375b",
   "metadata": {},
   "outputs": [],
   "source": [
    "# Load the dataset\n",
    "data = pd.read_csv('house_data.csv')\n"
   ]
  },
  {
   "cell_type": "code",
   "execution_count": null,
   "id": "dcfff77d-3df2-470e-9cfd-055354d1f0a3",
   "metadata": {},
   "outputs": [],
   "source": [
    "# Define the features (X) and target (y)\n",
    "X=data[['Square_Feet','Bedrooms']]\n",
    "y=data['Price']"
   ]
  },
  {
   "cell_type": "code",
   "execution_count": null,
   "id": "ca670605-5b4d-4dc2-827d-3859891f6f33",
   "metadata": {},
   "outputs": [],
   "source": [
    "# Split the data into training and testing sets\n",
    "X_train,X_test,y_train,y_test=train_test_split(X,y, test_size=0.2, random_state=42)"
   ]
  },
  {
   "cell_type": "code",
   "execution_count": null,
   "id": "4387e9a4-ae39-42b7-ab28-e974d94c4954",
   "metadata": {},
   "outputs": [],
   "source": [
    "# Initialize the linear regression model\n",
    "model=LineraRegression()"
   ]
  },
  {
   "cell_type": "code",
   "execution_count": null,
   "id": "7819fb61-c54a-4379-8122-5e48b485517a",
   "metadata": {},
   "outputs": [],
   "source": [
    "# Train the model on the training data\n",
    "model.fit(X_train, y_train)"
   ]
  },
  {
   "cell_type": "code",
   "execution_count": null,
   "id": "c9576e37-466c-4179-8c48-a317b907d089",
   "metadata": {},
   "outputs": [],
   "source": [
    "# Make predictions on the test data\n",
    "y_pred = model.predict(X_test)"
   ]
  },
  {
   "cell_type": "code",
   "execution_count": null,
   "id": "760212f1-3dde-4021-bf79-7c81258c3709",
   "metadata": {},
   "outputs": [],
   "source": [
    "# Evaluate the model\n",
    "mse = mean_squared_error(y_test, y_pred)\n",
    "r2 = r2_score(y_test, y_pred)"
   ]
  },
  {
   "cell_type": "code",
   "execution_count": null,
   "id": "df192390-d1d6-4146-830a-e713017b67e1",
   "metadata": {},
   "outputs": [],
   "source": [
    "print(f\"Mean Squared Error: {mse}\")\n",
    "print(f\"R-squared: {r2}\")"
   ]
  },
  {
   "cell_type": "code",
   "execution_count": null,
   "id": "0475af82-91f0-460c-a1df-79d1dca02ee8",
   "metadata": {},
   "outputs": [],
   "source": [
    "# Plot actual vs. predicted prices\n",
    "plt.scatter(y_test, y_pred)\n",
    "plt.xlabel(\"Actual Prices\")\n",
    "plt.ylabel(\"Predicted Prices\")\n",
    "plt.title(\"Actual vs. Predicted House Prices\")\n",
    "plt.show()"
   ]
  },
  {
   "cell_type": "markdown",
   "id": "4d888904-d0cc-4799-9bc3-f67582c9f17b",
   "metadata": {},
   "source": [
    "# In this code:\r\n",
    "\r\n",
    "We load the dataset containing house data, which includes features like 'Square_Feet' and 'Bedrooms' as well as the target variable 'Price.'\r\n",
    "\r\n",
    "We split the data into training and testing sets, with 80% of the data used for training and 20% for testing.\r\n",
    "\r\n",
    "We initialize a linear regression model from scikit-learn and train it on the training data using the fit method.\r\n",
    "\r\n",
    "We make predictions on the test data using the trained model and calculate evaluation metrics like Mean Squared Error (MSE) and R-squared (R2).\r\n",
    "\r\n",
    "Finally, we create a scatter plot to visualize the actual vs. predicted house prices."
   ]
  },
  {
   "cell_type": "code",
   "execution_count": null,
   "id": "6930bb5a-6245-4616-ba46-bfa416d79e44",
   "metadata": {},
   "outputs": [],
   "source": []
  }
 ],
 "metadata": {
  "kernelspec": {
   "display_name": "Python 3 (ipykernel)",
   "language": "python",
   "name": "python3"
  },
  "language_info": {
   "codemirror_mode": {
    "name": "ipython",
    "version": 3
   },
   "file_extension": ".py",
   "mimetype": "text/x-python",
   "name": "python",
   "nbconvert_exporter": "python",
   "pygments_lexer": "ipython3",
   "version": "3.11.5"
  }
 },
 "nbformat": 4,
 "nbformat_minor": 5
}
