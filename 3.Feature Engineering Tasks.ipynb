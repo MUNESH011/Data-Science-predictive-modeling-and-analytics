{
 "cells": [
  {
   "cell_type": "markdown",
   "id": "5799a612-72ec-4c6d-975c-fb9b7911b29c",
   "metadata": {},
   "source": [
    "# Feature Engineering Tasks"
   ]
  },
  {
   "cell_type": "code",
   "execution_count": null,
   "id": "013417a0-60ac-4ef0-8383-d2deb4aac983",
   "metadata": {},
   "outputs": [],
   "source": [
    "import pandas as pd"
   ]
  },
  {
   "cell_type": "code",
   "execution_count": null,
   "id": "ad143c31-c9aa-42aa-9ad5-58fd23ae3fcb",
   "metadata": {},
   "outputs": [],
   "source": [
    "# Load the dataset\n",
    "data=pd.read_csv('house_data')"
   ]
  },
  {
   "cell_type": "code",
   "execution_count": null,
   "id": "fd0ad509-c145-4ea8-943f-9a8a56025ff2",
   "metadata": {},
   "outputs": [],
   "source": [
    "# Feature Engineering:\n",
    "# 1. Create a new feature 'Total_Area' by summing 'Square_Feet' and 'Bedrooms'.\n",
    "data['Total_Area']=data['Square_Feet']+ data['Bedroom']"
   ]
  },
  {
   "cell_type": "code",
   "execution_count": null,
   "id": "a950a9d7-338c-4023-b53c-e3084df6daa5",
   "metadata": {},
   "outputs": [],
   "source": [
    "# 2. Create a feature 'Price_Per_SqFt' by dividing 'Price' by 'Square_Feet' to represent price per square foot.\n",
    "data['Price_Per_SqFt'] = data['Price'] / data['Square_Feet']"
   ]
  },
  {
   "cell_type": "code",
   "execution_count": null,
   "id": "d8ebf2c1-b92c-4486-8e43-d6f6a2be64ac",
   "metadata": {},
   "outputs": [],
   "source": [
    "# 3. Convert 'Year_Built' into 'Age' by subtracting it from the current year (2023).\n",
    "current_year=2023\n",
    "data['Age']=current_year-data['Year_Built']"
   ]
  },
  {
   "cell_type": "code",
   "execution_count": null,
   "id": "a43176eb-62ba-4a6d-9940-9f5851bdfcbb",
   "metadata": {},
   "outputs": [],
   "source": [
    "# 4. Create a binary feature 'Is_Luxury' based on a price threshold (e.g., $1 million).\n",
    "luxuary_threshold=1000000\n",
    "data['Is_luxuary']=data['Price'.apply(lambdax: 1 if x >= luxury_threshold else 0)"
   ]
  },
  {
   "cell_type": "code",
   "execution_count": null,
   "id": "eac8c787-4695-4481-b084-c1f41445ce83",
   "metadata": {},
   "outputs": [],
   "source": [
    "# 5. Binning 'Square_Feet' into different size categories (e.g., small, medium, large).\n",
    "bin_edges = [0, 1500, 2500, 5000, float('inf')]\n",
    "bin_labels = ['Small', 'Medium', 'Large', 'Huge']\n",
    "data['Size_Category'] = pd.cut(data['Square_Feet'], bins=bin_edges, labels=bin_labels)"
   ]
  },
  {
   "cell_type": "code",
   "execution_count": null,
   "id": "794ffb0b-016a-47e6-bd5b-97fdf159ca69",
   "metadata": {},
   "outputs": [],
   "source": [
    "# 6. Encoding categorical variables (e.g., 'Neighborhood') into numerical form using one-hot encoding.\n",
    "data = pd.get_dummies(data, columns=['Neighborhood'], prefix=['Neighborhood'])"
   ]
  },
  {
   "cell_type": "code",
   "execution_count": null,
   "id": "803dcbe7-dee2-43b5-a1b3-309baaa710ab",
   "metadata": {},
   "outputs": [],
   "source": [
    "# Display the updated dataset\n",
    "print(data.head())"
   ]
  },
  {
   "cell_type": "markdown",
   "id": "442d7299-fbb4-4fc1-aa5d-75d41c8fd3ac",
   "metadata": {},
   "source": [
    "# In this code:\r\n",
    "\r\n",
    "We create a new feature 'Total_Area' by adding the 'Square_Feet' and 'Bedrooms' columns. This could represent the overall size of the house.\r\n",
    "\r\n",
    "We create a 'Price_Per_SqFt' feature to represent the price per square foot, which can provide a more standardized measure of value.\r\n",
    "\r\n",
    "'Year_Built' is converted into the 'Age' of the house by subtracting it from the current year (2023).\r\n",
    "\r\n",
    "We create a binary 'Is_Luxury' feature to indicate whether a house is considered a luxury property based on a price threshold.\r\n",
    "\r\n",
    "'Square_Feet' is binned into different size categories, providing a categorical representation of house size.\r\n",
    "\r\n",
    "Categorical variables, such as 'Neighborhood,' are one-hot encoded to transform them into a numerical format for modeling."
   ]
  },
  {
   "cell_type": "code",
   "execution_count": null,
   "id": "713f2a8b-d4f4-43f1-833d-87a4d0f5742b",
   "metadata": {},
   "outputs": [],
   "source": []
  }
 ],
 "metadata": {
  "kernelspec": {
   "display_name": "Python 3 (ipykernel)",
   "language": "python",
   "name": "python3"
  },
  "language_info": {
   "codemirror_mode": {
    "name": "ipython",
    "version": 3
   },
   "file_extension": ".py",
   "mimetype": "text/x-python",
   "name": "python",
   "nbconvert_exporter": "python",
   "pygments_lexer": "ipython3",
   "version": "3.11.5"
  }
 },
 "nbformat": 4,
 "nbformat_minor": 5
}
