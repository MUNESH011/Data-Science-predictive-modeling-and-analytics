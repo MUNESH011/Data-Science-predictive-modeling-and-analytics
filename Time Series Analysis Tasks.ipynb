{
 "cells": [
  {
   "cell_type": "markdown",
   "id": "6970f9d4-b7f5-4352-8819-c8ae25f32cf9",
   "metadata": {},
   "source": [
    "# Time Series Analysis Tasks"
   ]
  },
  {
   "cell_type": "code",
   "execution_count": null,
   "id": "bd1de5e2-028b-449f-8af6-dc226c797657",
   "metadata": {},
   "outputs": [],
   "source": [
    "import pandas as pd\n",
    "import numpy as np\n",
    "import matplotlib.pyplot as plt\n",
    "from statsmodels.tsa.seasonal import seasonal_decompose\n",
    "from statsmodels.tsa.arima_model import ARIMA"
   ]
  },
  {
   "cell_type": "code",
   "execution_count": null,
   "id": "991c60da-37e4-43a9-ad11-f295801347fb",
   "metadata": {},
   "outputs": [],
   "source": [
    "# Load the dataset\n",
    "data = pd.read_csv('AirPassengers.csv')\n",
    "data['Month'] = pd.to_datetime(data['Month'], format='%Y-%m')\n",
    "data.set_index('Month', inplace=True)"
   ]
  },
  {
   "cell_type": "code",
   "execution_count": null,
   "id": "e970b1ab-9f3e-47cb-9a22-a0d2e4560ea4",
   "metadata": {},
   "outputs": [],
   "source": [
    "# Plot the time series data\n",
    "plt.figure(figsize=(12, 6))\n",
    "plt.plot(data)\n",
    "plt.title('Monthly Air Passenger Data')\n",
    "plt.xlabel('Year')\n",
    "plt.ylabel('Passengers')\n",
    "plt.show()"
   ]
  },
  {
   "cell_type": "code",
   "execution_count": null,
   "id": "5bf3f442-e7a3-492c-9b29-b6eba87ee163",
   "metadata": {},
   "outputs": [],
   "source": [
    "# Decompose the time series to identify trends and seasonality\n",
    "decomposition = seasonal_decompose(data, model='additive')\n",
    "trend = decomposition.trend\n",
    "seasonal = decomposition.seasonal\n",
    "residual = decomposition.resid\n",
    "\n",
    "plt.figure(figsize=(12, 6))\n",
    "plt.subplot(411)\n",
    "plt.plot(data, label='Original')\n",
    "plt.legend(loc='upper left')\n",
    "plt.title('Original Data')\n",
    "plt.subplot(412)\n",
    "plt.plot(trend, label='Trend')\n",
    "plt.legend(loc='upper left')\n",
    "plt.title('Trend')\n",
    "plt.subplot(413)\n",
    "plt.plot(seasonal, label='Seasonal')\n",
    "plt.legend(loc='upper left')\n",
    "plt.title('Seasonal')\n",
    "plt.subplot(414)\n",
    "plt.plot(residual, label='Residual')\n",
    "plt.legend(loc='upper left')\n",
    "plt.title('Residual')\n",
    "plt.tight_layout()\n",
    "\n"
   ]
  },
  {
   "cell_type": "code",
   "execution_count": null,
   "id": "b2f3a985-550f-4e41-9bd7-ec03145a22ec",
   "metadata": {},
   "outputs": [],
   "source": [
    "# Forecast future values using ARIMA\n",
    "model = ARIMA(data, order=(1, 1, 1))\n",
    "model_fit = model.fit(disp=0)\n",
    "forecast_steps = 12  # Forecast the next 12 months\n",
    "forecast, stderr, conf_int = model_fit.forecast(steps=forecast_steps)"
   ]
  },
  {
   "cell_type": "code",
   "execution_count": null,
   "id": "16572fd2-bfc8-485f-aa87-7a5262662a46",
   "metadata": {},
   "outputs": [],
   "source": [
    "# Plot the original data and forecasted values\n",
    "plt.figure(figsize=(12, 6))\n",
    "plt.plot(data, label='Original')\n",
    "plt.plot(model_fit.fittedvalues, color='red', label='Fitted')\n",
    "plt.plot(pd.date_range(start=data.index[-1], periods=forecast_steps, freq='M'), forecast, color='green', label='Forecast')\n",
    "plt.fill_between(pd.date_range(start=data.index[-1], periods=forecast_steps, freq='M'), conf_int[:, 0], conf_int[:, 1], color='gray', alpha=0.4)\n",
    "plt.legend()\n",
    "plt.title('Original Data and ARIMA Forecast')\n",
    "plt.show()"
   ]
  },
  {
   "cell_type": "markdown",
   "id": "635fa48f-f8f9-4ab0-84a2-d78fb578126e",
   "metadata": {},
   "source": [
    "# In this code:\r\n",
    "\r\n",
    "We load monthly air passenger data and plot the time series to visualize the trend and seasonality.\r\n",
    "\r\n",
    "We decompose the time series into its trend, seasonal, and residual components to better understand the underlying patterns.\r\n",
    "\r\n",
    "We fit an ARIMA (AutoRegressive Integrated Moving Average) model to the data. This model helps make future predictions by considering past values.\r\n",
    "\r\n",
    "We forecast the next 12 months of air passenger data using the ARIMA model, and the forecasted values are displayed alongside the original data."
   ]
  },
  {
   "cell_type": "code",
   "execution_count": null,
   "id": "b8c756bb-51f8-43f2-8e82-45ef041d2b7e",
   "metadata": {},
   "outputs": [],
   "source": []
  }
 ],
 "metadata": {
  "kernelspec": {
   "display_name": "Python 3 (ipykernel)",
   "language": "python",
   "name": "python3"
  },
  "language_info": {
   "codemirror_mode": {
    "name": "ipython",
    "version": 3
   },
   "file_extension": ".py",
   "mimetype": "text/x-python",
   "name": "python",
   "nbconvert_exporter": "python",
   "pygments_lexer": "ipython3",
   "version": "3.11.5"
  }
 },
 "nbformat": 4,
 "nbformat_minor": 5
}
