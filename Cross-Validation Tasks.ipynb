{
 "cells": [
  {
   "cell_type": "markdown",
   "id": "2182a2ed-3ba0-4a50-a5c7-7a9d2f56cdbf",
   "metadata": {},
   "source": [
    "# Cross-Validation Tasks"
   ]
  },
  {
   "cell_type": "code",
   "execution_count": null,
   "id": "7db2f7ef-c9ef-43c5-8210-427851964185",
   "metadata": {},
   "outputs": [],
   "source": [
    "import pandas as pd\n",
    "from sklearn.model_selection import cross_val_score\n",
    "from sklearn.linear_model import LogisticRegression"
   ]
  },
  {
   "cell_type": "code",
   "execution_count": null,
   "id": "fc264cf2-2de0-40d4-8007-d9d22f94aa92",
   "metadata": {},
   "outputs": [],
   "source": [
    "# Load the dataset\n",
    "data = pd.read_csv('fraud_detection_data.csv')"
   ]
  },
  {
   "cell_type": "code",
   "execution_count": null,
   "id": "a3dbb56b-c112-4136-8288-11158b7f7a7d",
   "metadata": {},
   "outputs": [],
   "source": [
    "# Define the features (X) and target (y)\n",
    "X = data.drop('Class', axis=1)\n",
    "y = data['Class']"
   ]
  },
  {
   "cell_type": "code",
   "execution_count": null,
   "id": "722d69c5-17e9-4a07-8fe8-e00bbbea2132",
   "metadata": {},
   "outputs": [],
   "source": [
    "# Initialize the logistic regression model\n",
    "model = LogisticRegression()"
   ]
  },
  {
   "cell_type": "code",
   "execution_count": null,
   "id": "6f7298be-1a9b-45db-8577-a7884a415761",
   "metadata": {},
   "outputs": [],
   "source": [
    "# Perform k-fold cross-validation (e.g., k=5)\n",
    "k = 5\n",
    "cross_val_scores = cross_val_score(model, X, y, cv=k, scoring='accuracy')"
   ]
  },
  {
   "cell_type": "code",
   "execution_count": null,
   "id": "81682169-4afd-4530-9d7d-97ce4a86dc49",
   "metadata": {},
   "outputs": [],
   "source": [
    "# Display cross-validation results\n",
    "print(\"Cross-Validation Scores:\", cross_val_scores)\n",
    "print(f\"Mean Accuracy: {cross_val_scores.mean():.2f}\")\n",
    "print(f\"Standard Deviation: {cross_val_scores.std():.2f}\")"
   ]
  },
  {
   "cell_type": "markdown",
   "id": "1b184d1c-a445-42d8-acf4-36a3a610737a",
   "metadata": {},
   "source": [
    "# In this code:\r\n",
    "\r\n",
    "We load the dataset, which contains features (e.g., transaction attributes) and the binary target variable 'Class' (fraud or non-fraud).\r\n",
    "\r\n",
    "The dataset is divided into features (X) and the target (y).\r\n",
    "\r\n",
    "We initialize a logistic regression model.\r\n",
    "\r\n",
    "We perform k-fold cross-validation with k=5 using cross_val_score to assess the model's performance. The scoring parameter specifies the evaluation metric (accuracy in this case).\r\n",
    "\r\n",
    "The cross-validation results are displayed, including the accuracy scores for each fold, the mean accuracy, and the standard deviation of the scores."
   ]
  },
  {
   "cell_type": "code",
   "execution_count": null,
   "id": "1d1816d0-a8ae-4c91-8c72-2b292e08c4cd",
   "metadata": {},
   "outputs": [],
   "source": []
  }
 ],
 "metadata": {
  "kernelspec": {
   "display_name": "Python 3 (ipykernel)",
   "language": "python",
   "name": "python3"
  },
  "language_info": {
   "codemirror_mode": {
    "name": "ipython",
    "version": 3
   },
   "file_extension": ".py",
   "mimetype": "text/x-python",
   "name": "python",
   "nbconvert_exporter": "python",
   "pygments_lexer": "ipython3",
   "version": "3.11.5"
  }
 },
 "nbformat": 4,
 "nbformat_minor": 5
}
