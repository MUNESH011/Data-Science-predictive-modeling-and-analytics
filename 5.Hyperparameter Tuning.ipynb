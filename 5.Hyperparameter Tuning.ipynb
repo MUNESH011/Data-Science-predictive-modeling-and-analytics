{
 "cells": [
  {
   "cell_type": "markdown",
   "id": "87b462bb-7747-4f82-885b-6c3a72813992",
   "metadata": {},
   "source": [
    "# Hyperparameter Tuning Tasks:"
   ]
  },
  {
   "cell_type": "code",
   "execution_count": 2,
   "id": "778b3c82-1ee8-4903-a24e-8fc1db0b2ac1",
   "metadata": {},
   "outputs": [],
   "source": [
    "import pandas as pd\n",
    "from sklearn import datasets\n",
    "from sklearn.model_selection import train_test_split, GridSearchCV\n",
    "from sklearn.svm import SVC"
   ]
  },
  {
   "cell_type": "code",
   "execution_count": 3,
   "id": "1e62b1f7-d098-48a3-b77e-ffc939a49cc7",
   "metadata": {},
   "outputs": [],
   "source": [
    "# Load the Iris dataset\n",
    "iris = datasets.load_iris()\n",
    "X = iris.data\n",
    "y = iris.target"
   ]
  },
  {
   "cell_type": "code",
   "execution_count": null,
   "id": "d940f1bd-ad00-4245-aeed-72e2777a9bca",
   "metadata": {},
   "outputs": [],
   "source": [
    "# Split the data into training and testing sets\n",
    "X_train, X_test, y_train, y_test = train_test_split(X, y, test_size=0.2, random_state=42)\n"
   ]
  },
  {
   "cell_type": "code",
   "execution_count": null,
   "id": "7b706c6e-06a2-47b4-9722-5044f21b9fbb",
   "metadata": {},
   "outputs": [],
   "source": [
    "# Initialize the SVM classifier\n",
    "svm_classifier = SVC()"
   ]
  },
  {
   "cell_type": "code",
   "execution_count": null,
   "id": "2d29d0fd-7639-4333-bc90-f5cfd5984878",
   "metadata": {},
   "outputs": [],
   "source": [
    "# Define the hyperparameter grid to search\n",
    "param_grid = {\n",
    "    'C': [0.1, 1, 10],          # Regularization parameter\n",
    "    'kernel': ['linear', 'rbf'],  # Kernel type\n",
    "    'gamma': [0.001, 0.01, 0.1]  # Kernel coefficient (only for 'rbf' kernel)\n",
    "}"
   ]
  },
  {
   "cell_type": "code",
   "execution_count": null,
   "id": "0230e0f1-b8d9-40a6-a51a-0be330a867f8",
   "metadata": {},
   "outputs": [],
   "source": [
    "# Initialize Grid Search with cross-validation\n",
    "grid_search = GridSearchCV(svm_classifier, param_grid, cv=5)\n"
   ]
  },
  {
   "cell_type": "code",
   "execution_count": null,
   "id": "7adb8547-5c73-4b42-ba7a-1beade5fa076",
   "metadata": {},
   "outputs": [],
   "source": [
    "# Perform hyperparameter tuning\n",
    "grid_search.fit(X_train, y_train)"
   ]
  },
  {
   "cell_type": "code",
   "execution_count": null,
   "id": "2e5ccc84-4937-476e-895a-c907ced1f189",
   "metadata": {},
   "outputs": [],
   "source": [
    "# Get the best hyperparameters\n",
    "best_params = grid_search.best_params_\n",
    "print(\"Best Hyperparameters:\", best_params)"
   ]
  },
  {
   "cell_type": "code",
   "execution_count": null,
   "id": "adf14c5c-c58e-4290-b9af-894500e6674f",
   "metadata": {},
   "outputs": [],
   "source": [
    "# Evaluate the model with the best hyperparameters on the test data\n",
    "best_model = grid_search.best_estimator_\n",
    "accuracy = best_model.score(X_test, y_test)\n",
    "print(\"Accuracy on Test Data:\", accuracy)"
   ]
  },
  {
   "cell_type": "markdown",
   "id": "fedc495b-2183-4440-9fe2-83a55af48096",
   "metadata": {},
   "source": [
    "# In this code:\r\n",
    "\r\n",
    "We load the Iris dataset from scikit-learn, which is a classic dataset for classification.\r\n",
    "\r\n",
    "We split the dataset into training and testing sets, with 80% used for training and 20% for testing.\r\n",
    "\r\n",
    "We initialize an SVM classifier with default hyperparameters.\r\n",
    "\r\n",
    "We define a hyperparameter grid (param_grid) that includes different values of the regularization parameter 'C,' the kernel type ('linear' or 'rbf'), and the kernel coefficient 'gamma.'\r\n",
    "\r\n",
    "We use Grid Search with 5-fold cross-validation to find the best combination of hyperparameters that maximizes model performance.\r\n",
    "\r\n",
    "We print the best hyperparameters and evaluate the model's accuracy on the test data using the best hyperparameters.\r\n",
    "\r\n"
   ]
  },
  {
   "cell_type": "code",
   "execution_count": null,
   "id": "f6f20932-25ea-45b2-a3a8-0877c17ba6de",
   "metadata": {},
   "outputs": [],
   "source": []
  }
 ],
 "metadata": {
  "kernelspec": {
   "display_name": "Python 3 (ipykernel)",
   "language": "python",
   "name": "python3"
  },
  "language_info": {
   "codemirror_mode": {
    "name": "ipython",
    "version": 3
   },
   "file_extension": ".py",
   "mimetype": "text/x-python",
   "name": "python",
   "nbconvert_exporter": "python",
   "pygments_lexer": "ipython3",
   "version": "3.11.5"
  }
 },
 "nbformat": 4,
 "nbformat_minor": 5
}
