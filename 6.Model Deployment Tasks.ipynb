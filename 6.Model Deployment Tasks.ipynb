{
 "cells": [
  {
   "cell_type": "markdown",
   "id": "66d9ca9f-370f-4652-9406-45aa9e10344d",
   "metadata": {},
   "source": [
    "# Model Deployment Tasks"
   ]
  },
  {
   "cell_type": "markdown",
   "id": "304790b7-7c11-437e-b928-53dfedf216be",
   "metadata": {},
   "source": [
    "# 1.Train and save the model:"
   ]
  },
  {
   "cell_type": "code",
   "execution_count": null,
   "id": "09c07a3d-3564-4fa7-ae75-e2042971786a",
   "metadata": {},
   "outputs": [],
   "source": [
    "import pickle\n",
    "from sklearn.linear_model import LogisticRegression\n",
    "\n",
    "# Load your dataset\n",
    "# Train your model on the dataset\n",
    "\n",
    "# Save the trained model to a file\n",
    "with open('sentiment_model.pkl', 'wb') as model_file:\n",
    "    pickle.dump(your_trained_model, model_file)"
   ]
  },
  {
   "cell_type": "markdown",
   "id": "1a7480d6-40e8-44a9-8776-6e27aed62e82",
   "metadata": {},
   "source": [
    "# Create a Flask web API:"
   ]
  },
  {
   "cell_type": "code",
   "execution_count": null,
   "id": "7b0718e5-d803-47a9-8c59-dea692c6f1a2",
   "metadata": {},
   "outputs": [],
   "source": [
    "from flask import Flask, request, jsonify\n",
    "import pickle\n",
    "\n",
    "app = Flask(__name__)\n",
    "\n",
    "# Load the saved model\n",
    "with open('sentiment_model.pkl', 'rb') as model_file:\n",
    "    model = pickle.load(model_file)\n",
    "\n",
    "# Define a route for making predictions\n",
    "@app.route('/predict', methods=['POST'])\n",
    "def predict():\n",
    "    data = request.json\n",
    "    text = data['text']\n",
    "\n",
    "    # Use the loaded model to make predictions\n",
    "    prediction = model.predict([text])\n",
    "\n",
    "    return jsonify({'prediction': prediction[0]})\n",
    "\n",
    "if __name__ == '__main__':\n",
    "    app.run(debug=True)\n"
   ]
  },
  {
   "cell_type": "markdown",
   "id": "ef172f5c-38d8-46ca-8ac7-edead72e42a1",
   "metadata": {},
   "source": [
    "# Make real-time predictions"
   ]
  },
  {
   "cell_type": "code",
   "execution_count": null,
   "id": "41a10195-a2d2-4d79-b681-c573b81230a7",
   "metadata": {},
   "outputs": [],
   "source": [
    "import requests\n",
    "\n",
    "url = 'http://localhost:5000/predict'\n",
    "data = {'text': 'This is a great product!'}\n",
    "response = requests.post(url, json=data)\n",
    "\n",
    "if response.status_code == 200:\n",
    "    result = response.json()\n",
    "    print(f'Sentiment: {result[\"prediction\"]}')\n",
    "else:\n",
    "    print('Error making the prediction.')"
   ]
  },
  {
   "cell_type": "markdown",
   "id": "2606a2de-016d-4255-a159-3a78e96aa479",
   "metadata": {},
   "source": [
    "# In this example:\r\n",
    "\r\n",
    "We train a logistic regression model (or load a pre-trained model) and save it to a file using the pickle library.\r\n",
    "\r\n",
    "We create a Flask web API with an endpoint /predict that accepts POST requests with text data for sentiment analysis. The model is loaded within the API.\r\n",
    "\r\n",
    "We make a real-time prediction by sending a POST request to the API and receive the sentiment prediction as a response."
   ]
  },
  {
   "cell_type": "code",
   "execution_count": null,
   "id": "b63e4bf7-e3f6-419d-a242-3b085aa203e6",
   "metadata": {},
   "outputs": [],
   "source": []
  }
 ],
 "metadata": {
  "kernelspec": {
   "display_name": "Python 3 (ipykernel)",
   "language": "python",
   "name": "python3"
  },
  "language_info": {
   "codemirror_mode": {
    "name": "ipython",
    "version": 3
   },
   "file_extension": ".py",
   "mimetype": "text/x-python",
   "name": "python",
   "nbconvert_exporter": "python",
   "pygments_lexer": "ipython3",
   "version": "3.11.5"
  }
 },
 "nbformat": 4,
 "nbformat_minor": 5
}
