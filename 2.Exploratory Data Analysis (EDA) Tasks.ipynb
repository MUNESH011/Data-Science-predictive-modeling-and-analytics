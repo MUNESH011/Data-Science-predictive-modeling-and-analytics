{
 "cells": [
  {
   "cell_type": "code",
   "execution_count": null,
   "id": "20b5d1ff-8106-4e4d-94a9-fd7dab57f2a9",
   "metadata": {},
   "outputs": [],
   "source": [
    "import pandas as pd\n",
    "import matplotlib.pyplot as plt\n",
    "import seaborn as sns"
   ]
  },
  {
   "cell_type": "code",
   "execution_count": null,
   "id": "21935cc4-4e4e-4f10-bf8c-81aab062d405",
   "metadata": {},
   "outputs": [],
   "source": [
    "# Load the dataset\n",
    "data = pd.read_csv('stock_prices.csv')"
   ]
  },
  {
   "cell_type": "code",
   "execution_count": null,
   "id": "42f25e74-0533-405c-ab6b-3ab839addd1b",
   "metadata": {},
   "outputs": [],
   "source": [
    "# Display the first few rows of the dataset\n",
    "print(data.head())"
   ]
  },
  {
   "cell_type": "code",
   "execution_count": null,
   "id": "37d81c86-8acd-4a05-96b9-195d01f3e6cd",
   "metadata": {},
   "outputs": [],
   "source": [
    "# Summary statistics\n",
    "summary_stats = data.describe()\n",
    "print(summary_stats)"
   ]
  },
  {
   "cell_type": "code",
   "execution_count": null,
   "id": "1e0faf94-4243-4b26-94ff-0f2b1031e182",
   "metadata": {},
   "outputs": [],
   "source": [
    "# Data visualization\n",
    "# Create a line plot to visualize the stock prices over time\n",
    "plt.figure(figsize=(12,6))\n",
    "plt.plot(data['Date'],data['Closing_Price'],label='Closing_Price',color='b')\n",
    "plt.xlabel('Date')\n",
    "plt.ylabel('Price')\n",
    "plt.title('Stock Prices over time')\n",
    "plt.legen()\n",
    "plt.grid(True)\n",
    "plt.show()"
   ]
  },
  {
   "cell_type": "code",
   "execution_count": null,
   "id": "96ff65c1-1cb4-4ed0-8513-7cb46eba54b9",
   "metadata": {},
   "outputs": [],
   "source": [
    "# Histogram to visualize the distribution of daily trading volumes\n",
    "plt.figure(figsize=(8,5))\n",
    "sns.histplot(data['Trading_Volume'],kde=True,color='g')\n",
    "plt.xlabel('Trading Volume')\n",
    "plt.ylabel('Frequency')\n",
    "plt.title('Distruibution of Trading Volume')\n",
    "plt.grid(True)\n",
    "plt.show()\n",
    "\n",
    "\n",
    "           "
   ]
  },
  {
   "cell_type": "code",
   "execution_count": null,
   "id": "21e7ae46-38c4-45cc-a81b-abc98776feea",
   "metadata": {},
   "outputs": [],
   "source": [
    "# Correlation matrix and heatmap\n",
    "correlation_matrix=data.corr()\n",
    "plt.figure(figsize=(10,8))\n",
    "sns.heatmap(correlation_matrix,annot=True,cmap='coolwarm')\n",
    "plt.title('Correlation Heatmap')\n",
    "plt.show()"
   ]
  },
  {
   "cell_type": "markdown",
   "id": "2a500cbc-dc0a-4c01-93c0-7515605da1c2",
   "metadata": {},
   "source": [
    "# In this code:\r\n",
    "\r\n",
    "We load the dataset containing stock price data.\r\n",
    "We display the first few rows and summary statistics (mean, standard deviation, etc.) to get an initial sense of the data.\r\n",
    "We create a line plot to visualize the stock prices over time, which can help identify trends or patterns.\r\n",
    "We use a histogram to visualize the distribution of daily trading volumes to understand how frequently certain volume levels occur.\r\n",
    "We calculate the correlation matrix and create a heatmap to identify relationships between different variables, such as correlation between stock prices and trading volume."
   ]
  },
  {
   "cell_type": "code",
   "execution_count": null,
   "id": "98fbbf6f-b0a5-41ad-95a2-e47f0b5e7a08",
   "metadata": {},
   "outputs": [],
   "source": []
  }
 ],
 "metadata": {
  "kernelspec": {
   "display_name": "Python 3 (ipykernel)",
   "language": "python",
   "name": "python3"
  },
  "language_info": {
   "codemirror_mode": {
    "name": "ipython",
    "version": 3
   },
   "file_extension": ".py",
   "mimetype": "text/x-python",
   "name": "python",
   "nbconvert_exporter": "python",
   "pygments_lexer": "ipython3",
   "version": "3.11.5"
  }
 },
 "nbformat": 4,
 "nbformat_minor": 5
}
