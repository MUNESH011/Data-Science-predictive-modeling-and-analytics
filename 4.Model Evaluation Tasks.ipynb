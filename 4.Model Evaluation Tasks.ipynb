{
 "cells": [
  {
   "cell_type": "markdown",
   "id": "3862eebe-23e1-426c-b3bf-1da4d76b3d8e",
   "metadata": {},
   "source": [
    "# Model Evaluation Tasks:"
   ]
  },
  {
   "cell_type": "code",
   "execution_count": null,
   "id": "1cc7be7b-636b-445d-91e2-ef37bf03e852",
   "metadata": {},
   "outputs": [],
   "source": [
    "import pandas as pd\n",
    "from sklearn.model_selection import train_test_split\n",
    "from sklearn.linear_model import LogisticRegression\n",
    "from sklearn.metrics import accuracy_score, precision_score, recall_score, f1_score, confusion_matrix\n"
   ]
  },
  {
   "cell_type": "code",
   "execution_count": null,
   "id": "fdbf4b66-39a9-428b-b14a-949cf219dbe0",
   "metadata": {},
   "outputs": [],
   "source": [
    "# Load the dataset\n",
    "data = pd.read_csv('spam_classification_data.csv')"
   ]
  },
  {
   "cell_type": "code",
   "execution_count": null,
   "id": "ff0fddd9-341c-41b6-9c14-fa30f81c5b90",
   "metadata": {},
   "outputs": [],
   "source": [
    "# Define the features (X) and target (y)\n",
    "X = data.drop('Class', axis=1)\n",
    "y = data['Class']"
   ]
  },
  {
   "cell_type": "code",
   "execution_count": null,
   "id": "fa20ce7d-5370-4c23-aeab-44afc9d85dfc",
   "metadata": {},
   "outputs": [],
   "source": [
    "# Split the data into training and testing sets\n",
    "X_train, X_test, y_train, y_test = train_test_split(X, y, test_size=0.2, random_state=42)"
   ]
  },
  {
   "cell_type": "code",
   "execution_count": null,
   "id": "0590f96c-8dd0-4e8a-9a75-b18c3516c6b2",
   "metadata": {},
   "outputs": [],
   "source": [
    "# Initialize the logistic regression model\n",
    "model = LogisticRegression()\n"
   ]
  },
  {
   "cell_type": "code",
   "execution_count": null,
   "id": "8f95591d-5180-4f0c-99f9-b0a0eae3a160",
   "metadata": {},
   "outputs": [],
   "source": [
    "# Train the model on the training data\n",
    "model.fit(X_train, y_train)"
   ]
  },
  {
   "cell_type": "code",
   "execution_count": null,
   "id": "360ea4fd-2047-4024-9910-3e744d72e5a5",
   "metadata": {},
   "outputs": [],
   "source": [
    "# Make predictions on the test data\n",
    "y_pred = model.predict(X_test)"
   ]
  },
  {
   "cell_type": "code",
   "execution_count": null,
   "id": "1a2b80b3-4e99-4aac-a528-a74fd58afbf4",
   "metadata": {},
   "outputs": [],
   "source": [
    "# Evaluate the model using various metrics\n",
    "accuracy = accuracy_score(y_test, y_pred)\n",
    "precision = precision_score(y_test, y_pred)\n",
    "recall = recall_score(y_test, y_pred)\n",
    "f1 = f1_score(y_test, y_pred)\n",
    "conf_matrix = confusion_matrix(y_test, y_pred)"
   ]
  },
  {
   "cell_type": "code",
   "execution_count": null,
   "id": "7d7640d7-a351-4c1d-910e-b4ada943d124",
   "metadata": {},
   "outputs": [],
   "source": [
    "print(f\"Accuracy: {accuracy:.2f}\")\n",
    "print(f\"Precision: {precision:.2f}\")\n",
    "print(f\"Recall: {recall:.2f}\")\n",
    "print(f\"F1 Score: {f1:.2f}\")\n",
    "print(\"Confusion Matrix:\")\n",
    "print(conf_matrix)"
   ]
  },
  {
   "cell_type": "markdown",
   "id": "76b11d34-77ec-4d2e-86fc-b5f47ba8c533",
   "metadata": {},
   "source": [
    "#  In this code:\r\n",
    "\r\n",
    "We load the dataset, which contains features (e.g., email characteristics) and the target variable 'Class' (spam or non-spam).\r\n",
    "\r\n",
    "The data is split into training and testing sets (80% training, 20% testing).\r\n",
    "\r\n",
    "We initialize a logistic regression model and train it on the training data.\r\n",
    "\r\n",
    "We make predictions on the test data and evaluate the model using several classification metrics:\r\n",
    "\r\n",
    "Accuracy: The ratio of correct predictions to the total number of predictions.\r\n",
    "Precision: The proportion of true positive predictions among all positive predictions.\r\n",
    "Recall: The proportion of true positive predictions among all actual positives.\r\n",
    "F1 Score: The harmonic mean of precision and recall.\r\n",
    "Confusion Matrix: A table that shows true positive, true negative, false positive, and false negative values."
   ]
  },
  {
   "cell_type": "code",
   "execution_count": null,
   "id": "45ea83ec-41e3-48cf-aef7-f803f8d867f6",
   "metadata": {},
   "outputs": [],
   "source": []
  }
 ],
 "metadata": {
  "kernelspec": {
   "display_name": "Python 3 (ipykernel)",
   "language": "python",
   "name": "python3"
  },
  "language_info": {
   "codemirror_mode": {
    "name": "ipython",
    "version": 3
   },
   "file_extension": ".py",
   "mimetype": "text/x-python",
   "name": "python",
   "nbconvert_exporter": "python",
   "pygments_lexer": "ipython3",
   "version": "3.11.5"
  }
 },
 "nbformat": 4,
 "nbformat_minor": 5
}
